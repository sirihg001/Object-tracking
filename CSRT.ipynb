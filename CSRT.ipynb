{
 "cells": [
  {
   "cell_type": "code",
   "execution_count": 5,
   "id": "ef4e6ed3-8281-46b8-8663-7751c9c8ba3d",
   "metadata": {},
   "outputs": [
    {
     "data": {
      "text/html": [
       "<a href=\"C:/Desktop/SP24/CV/final projects/object tracking/output_static_camera_with_moving_obj.mp4\" download>Download Output Video</a>"
      ],
      "text/plain": [
       "<IPython.core.display.HTML object>"
      ]
     },
     "metadata": {},
     "output_type": "display_data"
    },
    {
     "data": {
      "text/html": [
       "<a href=\"C:/Desktop/SP24/CV/final projects/object tracking/output_Moving_camera_with_moving_obj.mp4\" download>Download Output Video</a>"
      ],
      "text/plain": [
       "<IPython.core.display.HTML object>"
      ]
     },
     "metadata": {},
     "output_type": "display_data"
    },
    {
     "data": {
      "text/html": [
       "<a href=\"C:/Desktop/SP24/CV/final projects/object tracking/output_moving_camera_with_moving_orange.mp4\" download>Download Output Video</a>"
      ],
      "text/plain": [
       "<IPython.core.display.HTML object>"
      ]
     },
     "metadata": {},
     "output_type": "display_data"
    },
    {
     "data": {
      "text/html": [
       "<a href=\"C:/Desktop/SP24/CV/final projects/object tracking/output_box.mp4\" download>Download Output Video</a>"
      ],
      "text/plain": [
       "<IPython.core.display.HTML object>"
      ]
     },
     "metadata": {},
     "output_type": "display_data"
    }
   ],
   "source": [
    "import cv2\n",
    "from IPython.display import HTML\n",
    "\n",
    "# Function to track object and save output video\n",
    "def track_and_save(input_video_path, output_video_path, bbox):\n",
    "    # Read the video file\n",
    "    video = cv2.VideoCapture(input_video_path)\n",
    "\n",
    "    # Initialize the CSRT tracker\n",
    "    tracker = cv2.TrackerCSRT_create()\n",
    "\n",
    "    # Read the first frame\n",
    "    ret, frame = video.read()\n",
    "\n",
    "    # Initialize the tracker with the bounding box\n",
    "    tracker.init(frame, bbox)\n",
    "\n",
    "    # Define the output video writer\n",
    "    fourcc = cv2.VideoWriter_fourcc(*'mp4v')\n",
    "    output_video = cv2.VideoWriter(output_video_path, fourcc, 30.0, (frame.shape[1], frame.shape[0]))\n",
    "\n",
    "    # Loop through the video frames\n",
    "    while True:\n",
    "        # Read a new frame\n",
    "        ret, frame = video.read()\n",
    "        if not ret:\n",
    "            break\n",
    "\n",
    "        # Update the tracker\n",
    "        ret, bbox = tracker.update(frame)\n",
    "\n",
    "        # Draw the bounding box around the tracked object\n",
    "        if ret:\n",
    "            (x, y, w, h) = [int(v) for v in bbox]\n",
    "            cv2.rectangle(frame, (x, y), (x + w, y + h), (255, 0, 0), 2)\n",
    "\n",
    "        # Write the frame to the output video\n",
    "        output_video.write(frame)\n",
    "\n",
    "    # Release the video capture object and close the output video writer\n",
    "    video.release()\n",
    "    output_video.release()\n",
    "\n",
    "    # Provide a link to download the output video\n",
    "    display(HTML(f'<a href=\"{output_video_path}\" download>Download Output Video</a>'))\n",
    "\n",
    "# Define bounding boxes for each video\n",
    "bbox_list = [\n",
    "    (100, 350, 200, 250),    # static camera with moving object\n",
    "    (80, 220, 170, 220),  # moving camera with moving object\n",
    "    (160, 490, 180, 200 ),   #box, moving camera with static object\n",
    "    (170, 280, 135, 220)    # orange\n",
    "]\n",
    "#moving camera with moving object; 80, 220, 170, 220, static camera with moving object 100, 350, 200, 250 and moving camera with static object 170, 280, 135, 220\n",
    "# Define input and output paths for each video\n",
    "input_video_paths = [\n",
    "    \"C:/Desktop/SP24/CV/final projects/object tracking/static_camera_with_moving_obj.mp4\",\n",
    "    \"C:/Desktop/SP24/CV/final projects/object tracking/Moving_camera_with_moving_obj.mp4\",\n",
    "    \"C:/Desktop/SP24/CV/final projects/object tracking/moving_camera_with_moving_orange.mp4\",\n",
    "    \"box.mp4\"\n",
    "]\n",
    "\n",
    "output_video_paths = [\n",
    "    \"C:/Desktop/SP24/CV/final projects/object tracking/output_static_camera_with_moving_obj.mp4\",\n",
    "    \"C:/Desktop/SP24/CV/final projects/object tracking/output_Moving_camera_with_moving_obj.mp4\",\n",
    "    \"C:/Desktop/SP24/CV/final projects/object tracking/output_moving_camera_with_moving_orange.mp4\",\n",
    "    \"C:/Desktop/SP24/CV/final projects/object tracking/output_box.mp4\"\n",
    "]\n",
    "\n",
    "# Track objects and save output videos for each input video\n",
    "for input_path, output_path, bbox in zip(input_video_paths, output_video_paths, bbox_list):\n",
    "    track_and_save(input_path, output_path, bbox)\n"
   ]
  },
  {
   "cell_type": "code",
   "execution_count": null,
   "id": "6f4cd8cd-5125-4e43-aef9-13d7dec8b133",
   "metadata": {},
   "outputs": [],
   "source": []
  }
 ],
 "metadata": {
  "kernelspec": {
   "display_name": "Python 3 (ipykernel)",
   "language": "python",
   "name": "python3"
  },
  "language_info": {
   "codemirror_mode": {
    "name": "ipython",
    "version": 3
   },
   "file_extension": ".py",
   "mimetype": "text/x-python",
   "name": "python",
   "nbconvert_exporter": "python",
   "pygments_lexer": "ipython3",
   "version": "3.9.7"
  }
 },
 "nbformat": 4,
 "nbformat_minor": 5
}
